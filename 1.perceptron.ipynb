{
 "cells": [
  {
   "cell_type": "markdown",
   "metadata": {},
   "source": [
    "# Perceptron\n",
    "\n",
    "Here we explain the fundamental mechanism of discrete backpropagation on the following introductory machine learning model: the binarized perceptron or nonlinear regression. Before we begin, we must explain some fundamental concepts:\n",
    "\n",
    "**Definition 1** - A matrix is said to be binarized if it only takes entries in $\\{-1,+1\\}$.\n",
    "\n",
    "**Definition 2** - The Hamming Distance denoted $d$ of two binarized matrices $A$ and $B$ of equal size is given by: $$d(A,B)=\\dfrac12\\sum_{i} A_i + B_i$$\n",
    "\n",
    "or in plain english \"*the number of entries that are different between the two matrices*\".\n",
    "\n",
    "**Definition 3** - We typically denote a sample-wise ground truth $z$ and an input $x$ and batched ground truth $Z$ and an input $X$.\n",
    "\n",
    "**Definition 4** - Given a binarized ground truth $Z$ and an input $X$, a binarized perceptron aims to find a binarized matrix $W$ and an integer vector $b$ to compute $\\hat{Z}$ via:\n",
    "\n",
    "$$\\hat{Z} = \\text{sign}(XW - b)$$\n",
    "\n",
    "Where $\\text{sign}$ is given by:\n",
    "\n",
    "$$\\text{sign}(x)=\\begin{cases}-1\\qquad \\text{if }x<0\\\\ +1\\qquad \\text{if }x\\geq 0 \\end{cases}$$\n",
    "\n",
    "Such that, $d(Z,\\hat{Z})$ is minimized by correct choice of $W$ and $b$.\n",
    "\n",
    "**Note 1** the matrix multiplication is taken to be ordinary matrix multiplication as one would do on integer matrices, if we map $-1\\to 0$ and $+1\\to 1$ in typical binary fashion - we replace the multiplication in the individual dot products with an bitwise XNOR and addition is then taken to be a population count/*Hamming weight* of the bit-string left after this XNOR'ing.\n",
    "\n",
    "**Note 2** In practice, transistor-for-transistor *XOR* gates are simpler to implement and indeed in the experimental binary warp-level matrix multiply and accumulate instructions available on post-Turing Nvidia GPUs this is what actually gets used - and similarly in FPGA - however, the underlying mathematics of perceptron changes little and we can still train successfully in this regime.\n",
    "\n",
    "This has problem has already been solved in various ways using either PlumerAi's Latent-Free approach or Bengio-et-al's Latent approach. In this notebook, I identify and explain a new approach which builds on PlumerAi's Latent-Free approach that I call \"discrete optimization\".\n",
    "\n",
    "### Discrete Optimization\n",
    "\n",
    "Discrete Optimization works on the following simple observation: that in the dot product of two binarized vectors, that the individual entries of both vectors can only work to either increment or decrement the final dot product.\n",
    "\n",
    "This obvious fact, can be applied to find an optimization signal for the Perceptron. To simplify matters we'll first consider the case of a single sample $x$ and a single ground truth label $z$, for both we'll assume size 10. $\\hat{z}$ is produced by the Perceptron formula and we can compare this against $z$.\n",
    "\n",
    "```\n",
    "z_hat = -1 +1 -1 -1 +1 -1 -1 -1 -1 -1 -1 -1\n",
    "z     = -1 +1 -1 -1 -1 +1 -1 -1 -1 -1 -1 -1 \n",
    "```\n",
    "\n",
    "Here we have a few different kinds of behaviors which encode various signals:\n",
    "\n",
    "1. Predicted: -1/+1, Truth: -1/+1 respectively, correct prediction - nothing to optimize here\n",
    "2. Predicted: -1, Truth: +1, false negative - dot product between input $x$ and corresponding column in $W$ minus bias term $b$ was too **small**!\n",
    "3. Predicted: +1, Truth: -1, false positive - dot product between input $x$ and corresponding column in $W$ minus bias term $b$ was too **big**!\n",
    "\n",
    "We have a clear optimization signal here, we have to either increase or decrease the size of the value before we take its *sign*, we have two possible solutions:\n",
    "\n",
    "1. The easiest is that we can simply increase/decrease the size of the bias to limit the effect of the dot product, in which ever way prevents the problem (too big vs too small)\n",
    "2. Harder, is that we can look at the individual multiplications in the dot product and figure out which values in the $W$ column are contributing to this mess.\n",
    "\n",
    "We call this process \"blame attribution\", where we figure out exactly which values we can blame for mispredictions. We cover the process of blame attribution for both the false positive and false negative case:\n",
    "\n",
    "- False Positive:\n",
    "\n",
    "Continuing our example, a false positive occurs at the $5^{\\text{th}}$ entry of the $z/\\hat{z}$ pair. This means that the dot product of $5^{\\text{th}}$ column of $W$, denoted $W_5$ and $x$ exceeds that bias term $b_5$ - we can blame $b_5$ for being too small and attribute blame for it to increase in size. We can take a closer look at the values of $W_5$ and $x$ and attribute blame to the individual weights of this dot product:\n",
    "\n",
    "```\n",
    "W_5 = -1 +1 +1 -1 +1 +1 -1 +1 -1 +1\n",
    "x   = -1 +1 -1 +1 -1 +1 -1 +1 -1 +1\n",
    "```\n",
    "\n",
    "$W_5$ can blamed for this unusual result in all of its entries except entries 3,4,5. So we attribute blame accordingly to these entries.\n",
    "\n",
    "- False Negative:\n",
    "\n",
    "In our example, the false negative occurs at the $6^{\\text{th}}$ entry of the $z/\\hat{z}$ pair. So we blame the bias term $b_6$ for being too large, and examine the dot product to $W_6$ as we did above to attribute blame:\n",
    "\n",
    "```\n",
    "W_6 = +1 -1 +1 +1 -1 +1 +1 -1 +1 -1 \n",
    "x   = -1 +1 -1 +1 -1 +1 -1 +1 -1 +1\n",
    "```\n",
    "\n",
    "And now it is entries 4, 5, 6 that can be blamed for this false negative.\n",
    "\n",
    "### Keeping Score\n",
    "\n",
    "Now that we have our basic optimization signals, we can start tallying them, much in the same way as Plumerai's BOP tallies evidence determined from backpropagation. As a reminder, each weight is expected to have an unsigned blame counter that keeps track of the blame attributed to it as the network cycles through tasks, and similarly each bias term, however - this blame counter in this case is signed.\n",
    "\n",
    "Once the blame counted, passes a certain threshold, either the weight is flipped or the bias is increment/decrement (dependent on sign). Most importantly, the process must also forgive blame by periodically incrementing/decrementing all counters towards 0 - this has the desired effect of removing erroneous blame that is attributed either as a result of noise in the data or from historical behaviour as the Perceptron is tuned.\n",
    "\n",
    "With all of this, we are now ready to implement a binarized Perceptron.\n",
    "\n",
    "### Implementation\n",
    "\n",
    "We will train the binarized perceptron on the famous `MNIST` dataset, below we are given a simple viewer which shows how individual samples of the MNIST dataset are thresholded into a binarized from that we can work with."
   ]
  },
  {
   "cell_type": "code",
   "execution_count": 1,
   "metadata": {},
   "outputs": [
    {
     "name": "stderr",
     "output_type": "stream",
     "text": [
      "2022-11-12 23:20:49.540999: I tensorflow/core/platform/cpu_feature_guard.cc:193] This TensorFlow binary is optimized with oneAPI Deep Neural Network Library (oneDNN) to use the following CPU instructions in performance-critical operations:  AVX2 FMA\n",
      "To enable them in other operations, rebuild TensorFlow with the appropriate compiler flags.\n",
      "2022-11-12 23:20:49.715584: E tensorflow/stream_executor/cuda/cuda_blas.cc:2981] Unable to register cuBLAS factory: Attempting to register factory for plugin cuBLAS when one has already been registered\n",
      "2022-11-12 23:20:50.761889: W tensorflow/stream_executor/platform/default/dso_loader.cc:64] Could not load dynamic library 'libnvinfer.so.7'; dlerror: libnvinfer.so.7: cannot open shared object file: No such file or directory\n",
      "2022-11-12 23:20:50.761961: W tensorflow/stream_executor/platform/default/dso_loader.cc:64] Could not load dynamic library 'libnvinfer_plugin.so.7'; dlerror: libnvinfer_plugin.so.7: cannot open shared object file: No such file or directory\n",
      "2022-11-12 23:20:50.761971: W tensorflow/compiler/tf2tensorrt/utils/py_utils.cc:38] TF-TRT Warning: Cannot dlopen some TensorRT libraries. If you would like to use Nvidia GPU with TensorRT, please make sure the missing libraries mentioned above are installed properly.\n",
      "2022-11-12 23:20:52.767095: I tensorflow/stream_executor/cuda/cuda_gpu_executor.cc:980] successful NUMA node read from SysFS had negative value (-1), but there must be at least one NUMA node, so returning NUMA node zero\n",
      "2022-11-12 23:20:52.786618: W tensorflow/stream_executor/platform/default/dso_loader.cc:64] Could not load dynamic library 'libcudnn.so.8'; dlerror: libcudnn.so.8: cannot open shared object file: No such file or directory\n",
      "2022-11-12 23:20:52.786634: W tensorflow/core/common_runtime/gpu/gpu_device.cc:1934] Cannot dlopen some GPU libraries. Please make sure the missing libraries mentioned above are installed properly if you would like to use GPU. Follow the guide at https://www.tensorflow.org/install/gpu for how to download and setup the required libraries for your platform.\n",
      "Skipping registering GPU devices...\n",
      "2022-11-12 23:20:52.787038: I tensorflow/core/platform/cpu_feature_guard.cc:193] This TensorFlow binary is optimized with oneAPI Deep Neural Network Library (oneDNN) to use the following CPU instructions in performance-critical operations:  AVX2 FMA\n",
      "To enable them in other operations, rebuild TensorFlow with the appropriate compiler flags.\n"
     ]
    },
    {
     "data": {
      "image/png": "[encoded data removed]",
      "text/plain": [
       "<Figure size 640x480 with 4 Axes>"
      ]
     },
     "metadata": {},
     "output_type": "display_data"
    }
   ],
   "source": [
    "import tensorflow as tf\n",
    "import matplotlib.pyplot as plt\n",
    "\n",
    "# Load MNIST data\n",
    "(x_train, y_train), (x_test, y_test) = tf.keras.datasets.mnist.load_data()\n",
    "\n",
    "# Pretty MNIST rendering\n",
    "fig, axs = plt.subplots(1,2)\n",
    "\n",
    "IMAGE_TO_PREVIEW = 782\n",
    "THRESHOLD = 128\n",
    "\n",
    "original = axs[0].imshow(x_train[IMAGE_TO_PREVIEW].reshape(28,28))\n",
    "binarized = axs[1].imshow((x_train[IMAGE_TO_PREVIEW].reshape(28,28) > THRESHOLD)*2-1)\n",
    "\n",
    "plt.colorbar(original,orientation='horizontal')\n",
    "plt.colorbar(binarized,orientation='horizontal')\n",
    "\n",
    "axs[0].set_title(\"Original Image of a \"+str(y_train[IMAGE_TO_PREVIEW]))\n",
    "axs[1].set_title(\"Binarized Image of a \"+str(y_train[IMAGE_TO_PREVIEW]))\n",
    "axs[0].tick_params(axis='both',bottom=False,labelbottom=False,left=False,labelleft=False)\n",
    "axs[1].tick_params(axis='both',bottom=False,labelbottom=False,left=False,labelleft=False)\n",
    "\n",
    "# Full data conversion\n",
    "x_train = ((x_train > THRESHOLD)*2 - 1).reshape(x_train.shape[0],28*28)\n",
    "x_test = ((x_test > THRESHOLD)*2 - 1).reshape(x_test.shape[0],28*28)\n",
    "y_train = tf.one_hot(y_train,depth=10)*2 - 1\n",
    "y_test = tf.one_hot(y_test,depth=10)*2 - 1\n",
    "\n",
    "# Render pretty MNIST render\n",
    "plt.show()"
   ]
  },
  {
   "cell_type": "markdown",
   "metadata": {},
   "source": [
    "With the data correctly loaded, we can begin by initializing the Perceptron itself, we will do this by\n",
    "\n",
    "- Initializing $W$ to be a random binarized matrix of size 784-by-10\n",
    "- Initializing $b$ to be a random integer matrix of size 10 with entries between 0 and 784\n",
    "- Initializing all blame counters for both $W$ and $b$ and define increment/flipping thresholds\n",
    "- Initialize counter and define time at which to decrement counter (this is usually the average expected time of two samples of the same class)\n",
    "\n",
    "In particular, we'd like to emphasize that the blame counters can be especially small - that is, only 4-8 bits are required for blame attribution, as opposed to the full floating point number required in Plumerai's Latent-Free approach. This makes our training requirements very small.\n",
    "\n",
    "Training in general is much more sensitive to the counter decay rate than anything else."
   ]
  },
  {
   "cell_type": "code",
   "execution_count": 2,
   "metadata": {},
   "outputs": [
    {
     "data": {
      "text/plain": [
       "((784, 10), (10,))"
      ]
     },
     "execution_count": 2,
     "metadata": {},
     "output_type": "execute_result"
    }
   ],
   "source": [
    "import numpy as np\n",
    "\n",
    "# Set seed for reproducability\n",
    "SEED = 1337\n",
    "np.random.seed(SEED)\n",
    "\n",
    "# Define random W and b\n",
    "W = (np.random.uniform(0,1,(784,10)) < 0.5)*2 - 1\n",
    "b = np.random.randint(0,784,10)\n",
    "\n",
    "# Create blame attribution counters\n",
    "W_blame = np.zeros((784,10))\n",
    "b_blame = np.zeros(10)\n",
    "\n",
    "# Define the requisite thresholds\n",
    "W_THRES = 16\n",
    "b_THRES = 4\n",
    "\n",
    "# Counters and counter logic\n",
    "counter = 0\n",
    "counter_RESET = 10\n",
    "\n",
    "W.shape, b.shape"
   ]
  },
  {
   "cell_type": "markdown",
   "metadata": {},
   "source": [
    "We can finally define some functions to provide a method to process data-samples and train the perceptron."
   ]
  },
  {
   "cell_type": "code",
   "execution_count": 3,
   "metadata": {},
   "outputs": [],
   "source": [
    "# Feedforward one sample\n",
    "def forward(W,b,x):\n",
    "    out = np.sign(x@W-b)\n",
    "    out[out == 0] = 1\n",
    "    return out\n",
    "\n",
    "# Discover which columns/bias terms are to blame\n",
    "def blame_columns(z,zhat):\n",
    "\n",
    "    # Binarize inputs\n",
    "    z = z > 0\n",
    "    zhat = zhat > 0\n",
    "\n",
    "    # Compute where there are false positives and false negatives\n",
    "    false_pos = np.logical_and(zhat,np.logical_not(z))\n",
    "    false_neg = np.logical_and(np.logical_not(zhat),z)\n",
    "\n",
    "    # Increment bias blame for false positives (too big!)\n",
    "    for idx, i in enumerate(false_pos):\n",
    "        if i:\n",
    "            b_blame[idx] += 1\n",
    "\n",
    "    # Decrement bias blame for false negatives (too small!)\n",
    "    for idx, i in enumerate(false_neg):\n",
    "        if i:\n",
    "            b_blame[idx] -= 1\n",
    "\n",
    "    # If bias threshold is crossed, reset blame and increment/decrement bias\n",
    "    for idx, i in enumerate(np.abs(b_blame)>b_THRES):\n",
    "        if np.sign(b_blame[idx]) > 0 and i:\n",
    "            b[idx] += 1\n",
    "        elif np.sign(b_blame[idx]) < 0 and i:\n",
    "            b[idx] -= 1\n",
    "\n",
    "    return false_pos, false_neg\n",
    "\n",
    "def blame_weights(x,false_pos,false_neg):\n",
    "\n",
    "    # Binarize inputs\n",
    "    x = x > 0\n",
    "\n",
    "    # If a weight is found to be blame for a false positive attribute blame\n",
    "    for idx, i in enumerate(false_pos):\n",
    "        if i:\n",
    "            for jdx, j in enumerate(np.logical_not(np.logical_xor(W[:,idx]>0,x))):\n",
    "                if j:\n",
    "                    W_blame[jdx,idx] += 1\n",
    "\n",
    "    # If a weight is found to be blame for a false negative attribute blame\n",
    "    for idx, i in enumerate(false_neg):\n",
    "        if i:\n",
    "            for jdx, j in enumerate(np.logical_xor(W[:,idx]>0,x)):\n",
    "                if j:\n",
    "                    W_blame[jdx,idx] += 1\n",
    "\n",
    "    # Find where weights exceed the blame threshold\n",
    "    rows,cols = np.where(W_blame >= W_THRES)\n",
    "\n",
    "    # Reset blame counter and flip corresponding weight\n",
    "    for i,j in zip(rows,cols):\n",
    "        W_blame[i,j] = 0\n",
    "        W[i,j] = W[i,j] * -1"
   ]
  },
  {
   "cell_type": "markdown",
   "metadata": {},
   "source": [
    "With all functions defined, we are now able to run our perceptron and train it using discrete optimization."
   ]
  },
  {
   "cell_type": "code",
   "execution_count": 7,
   "metadata": {},
   "outputs": [
    {
     "name": "stdout",
     "output_type": "stream",
     "text": [
      "EPOCH 1\n"
     ]
    },
    {
     "name": "stderr",
     "output_type": "stream",
     "text": [
      " 17%|█▋        | 10337/60000 [00:06<00:27, 1780.03it/s]"
     ]
    },
    {
     "name": "stdout",
     "output_type": "stream",
     "text": [
      "Current Accuracy: 0.6853\n"
     ]
    },
    {
     "name": "stderr",
     "output_type": "stream",
     "text": [
      " 34%|███▍      | 20309/60000 [00:11<00:21, 1809.39it/s]"
     ]
    },
    {
     "name": "stdout",
     "output_type": "stream",
     "text": [
      "Current Accuracy: 0.6847\n"
     ]
    },
    {
     "name": "stderr",
     "output_type": "stream",
     "text": [
      " 51%|█████     | 30318/60000 [00:17<00:16, 1806.44it/s]"
     ]
    },
    {
     "name": "stdout",
     "output_type": "stream",
     "text": [
      "Current Accuracy: 0.6973\n"
     ]
    },
    {
     "name": "stderr",
     "output_type": "stream",
     "text": [
      " 67%|██████▋   | 40274/60000 [00:23<00:11, 1723.29it/s]"
     ]
    },
    {
     "name": "stdout",
     "output_type": "stream",
     "text": [
      "Current Accuracy: 0.6843\n"
     ]
    },
    {
     "name": "stderr",
     "output_type": "stream",
     "text": [
      " 84%|████████▍ | 50264/60000 [00:29<00:05, 1636.06it/s]"
     ]
    },
    {
     "name": "stdout",
     "output_type": "stream",
     "text": [
      "Current Accuracy: 0.6935\n"
     ]
    },
    {
     "name": "stderr",
     "output_type": "stream",
     "text": [
      " 87%|████████▋ | 52021/60000 [00:30<00:04, 1688.18it/s]\n"
     ]
    },
    {
     "ename": "KeyboardInterrupt",
     "evalue": "",
     "output_type": "error",
     "traceback": [
      "\u001b[0;31m---------------------------------------------------------------------------\u001b[0m",
      "\u001b[0;31mKeyboardInterrupt\u001b[0m                         Traceback (most recent call last)",
      "Cell \u001b[0;32mIn [7], line 16\u001b[0m\n\u001b[1;32m     13\u001b[0m \u001b[39mfor\u001b[39;00m i \u001b[39min\u001b[39;00m tqdm(indices):\n\u001b[1;32m     15\u001b[0m     x \u001b[39m=\u001b[39m x_train[i]\n\u001b[0;32m---> 16\u001b[0m     y \u001b[39m=\u001b[39m y_train[i]\n\u001b[1;32m     18\u001b[0m     \u001b[39m# Predict\u001b[39;00m\n\u001b[1;32m     19\u001b[0m     zhat \u001b[39m=\u001b[39m forward(W,b,x)\n",
      "File \u001b[0;32m~/.local/lib/python3.10/site-packages/tensorflow/python/util/traceback_utils.py:150\u001b[0m, in \u001b[0;36mfilter_traceback.<locals>.error_handler\u001b[0;34m(*args, **kwargs)\u001b[0m\n\u001b[1;32m    148\u001b[0m filtered_tb \u001b[39m=\u001b[39m \u001b[39mNone\u001b[39;00m\n\u001b[1;32m    149\u001b[0m \u001b[39mtry\u001b[39;00m:\n\u001b[0;32m--> 150\u001b[0m   \u001b[39mreturn\u001b[39;00m fn(\u001b[39m*\u001b[39;49margs, \u001b[39m*\u001b[39;49m\u001b[39m*\u001b[39;49mkwargs)\n\u001b[1;32m    151\u001b[0m \u001b[39mexcept\u001b[39;00m \u001b[39mException\u001b[39;00m \u001b[39mas\u001b[39;00m e:\n\u001b[1;32m    152\u001b[0m   filtered_tb \u001b[39m=\u001b[39m _process_traceback_frames(e\u001b[39m.\u001b[39m__traceback__)\n",
      "File \u001b[0;32m~/.local/lib/python3.10/site-packages/tensorflow/python/util/dispatch.py:1176\u001b[0m, in \u001b[0;36madd_dispatch_support.<locals>.decorator.<locals>.op_dispatch_handler\u001b[0;34m(*args, **kwargs)\u001b[0m\n\u001b[1;32m   1174\u001b[0m \u001b[39m# Fallback dispatch system (dispatch v1):\u001b[39;00m\n\u001b[1;32m   1175\u001b[0m \u001b[39mtry\u001b[39;00m:\n\u001b[0;32m-> 1176\u001b[0m   \u001b[39mreturn\u001b[39;00m dispatch_target(\u001b[39m*\u001b[39;49margs, \u001b[39m*\u001b[39;49m\u001b[39m*\u001b[39;49mkwargs)\n\u001b[1;32m   1177\u001b[0m \u001b[39mexcept\u001b[39;00m (\u001b[39mTypeError\u001b[39;00m, \u001b[39mValueError\u001b[39;00m):\n\u001b[1;32m   1178\u001b[0m   \u001b[39m# Note: convert_to_eager_tensor currently raises a ValueError, not a\u001b[39;00m\n\u001b[1;32m   1179\u001b[0m   \u001b[39m# TypeError, when given unexpected types.  So we need to catch both.\u001b[39;00m\n\u001b[1;32m   1180\u001b[0m   result \u001b[39m=\u001b[39m dispatch(op_dispatch_handler, args, kwargs)\n",
      "File \u001b[0;32m~/.local/lib/python3.10/site-packages/tensorflow/python/ops/array_ops.py:1072\u001b[0m, in \u001b[0;36m_slice_helper\u001b[0;34m(tensor, slice_spec, var)\u001b[0m\n\u001b[1;32m   1066\u001b[0m \u001b[39mwith\u001b[39;00m ops\u001b[39m.\u001b[39mname_scope(\n\u001b[1;32m   1067\u001b[0m     \u001b[39mNone\u001b[39;00m,\n\u001b[1;32m   1068\u001b[0m     \u001b[39m\"\u001b[39m\u001b[39mstrided_slice\u001b[39m\u001b[39m\"\u001b[39m, [tensor] \u001b[39m+\u001b[39m begin \u001b[39m+\u001b[39m end \u001b[39m+\u001b[39m strides,\n\u001b[1;32m   1069\u001b[0m     skip_on_eager\u001b[39m=\u001b[39m\u001b[39mFalse\u001b[39;00m) \u001b[39mas\u001b[39;00m name:\n\u001b[1;32m   1070\u001b[0m   \u001b[39mif\u001b[39;00m begin:\n\u001b[1;32m   1071\u001b[0m     packed_begin, packed_end, packed_strides \u001b[39m=\u001b[39m (stack(begin), stack(end),\n\u001b[0;32m-> 1072\u001b[0m                                                 stack(strides))\n\u001b[1;32m   1073\u001b[0m     \u001b[39m# TODO(mdan): Instead of implicitly casting, it's better to enforce the\u001b[39;00m\n\u001b[1;32m   1074\u001b[0m     \u001b[39m# same dtypes.\u001b[39;00m\n\u001b[1;32m   1075\u001b[0m     \u001b[39mif\u001b[39;00m (packed_begin\u001b[39m.\u001b[39mdtype \u001b[39m==\u001b[39m dtypes\u001b[39m.\u001b[39mint64 \u001b[39mor\u001b[39;00m\n\u001b[1;32m   1076\u001b[0m         packed_end\u001b[39m.\u001b[39mdtype \u001b[39m==\u001b[39m dtypes\u001b[39m.\u001b[39mint64 \u001b[39mor\u001b[39;00m\n\u001b[1;32m   1077\u001b[0m         packed_strides\u001b[39m.\u001b[39mdtype \u001b[39m==\u001b[39m dtypes\u001b[39m.\u001b[39mint64):\n",
      "File \u001b[0;32m~/.local/lib/python3.10/site-packages/tensorflow/python/util/traceback_utils.py:150\u001b[0m, in \u001b[0;36mfilter_traceback.<locals>.error_handler\u001b[0;34m(*args, **kwargs)\u001b[0m\n\u001b[1;32m    148\u001b[0m filtered_tb \u001b[39m=\u001b[39m \u001b[39mNone\u001b[39;00m\n\u001b[1;32m    149\u001b[0m \u001b[39mtry\u001b[39;00m:\n\u001b[0;32m--> 150\u001b[0m   \u001b[39mreturn\u001b[39;00m fn(\u001b[39m*\u001b[39;49margs, \u001b[39m*\u001b[39;49m\u001b[39m*\u001b[39;49mkwargs)\n\u001b[1;32m    151\u001b[0m \u001b[39mexcept\u001b[39;00m \u001b[39mException\u001b[39;00m \u001b[39mas\u001b[39;00m e:\n\u001b[1;32m    152\u001b[0m   filtered_tb \u001b[39m=\u001b[39m _process_traceback_frames(e\u001b[39m.\u001b[39m__traceback__)\n",
      "File \u001b[0;32m~/.local/lib/python3.10/site-packages/tensorflow/python/util/dispatch.py:1176\u001b[0m, in \u001b[0;36madd_dispatch_support.<locals>.decorator.<locals>.op_dispatch_handler\u001b[0;34m(*args, **kwargs)\u001b[0m\n\u001b[1;32m   1174\u001b[0m \u001b[39m# Fallback dispatch system (dispatch v1):\u001b[39;00m\n\u001b[1;32m   1175\u001b[0m \u001b[39mtry\u001b[39;00m:\n\u001b[0;32m-> 1176\u001b[0m   \u001b[39mreturn\u001b[39;00m dispatch_target(\u001b[39m*\u001b[39;49margs, \u001b[39m*\u001b[39;49m\u001b[39m*\u001b[39;49mkwargs)\n\u001b[1;32m   1177\u001b[0m \u001b[39mexcept\u001b[39;00m (\u001b[39mTypeError\u001b[39;00m, \u001b[39mValueError\u001b[39;00m):\n\u001b[1;32m   1178\u001b[0m   \u001b[39m# Note: convert_to_eager_tensor currently raises a ValueError, not a\u001b[39;00m\n\u001b[1;32m   1179\u001b[0m   \u001b[39m# TypeError, when given unexpected types.  So we need to catch both.\u001b[39;00m\n\u001b[1;32m   1180\u001b[0m   result \u001b[39m=\u001b[39m dispatch(op_dispatch_handler, args, kwargs)\n",
      "File \u001b[0;32m~/.local/lib/python3.10/site-packages/tensorflow/python/ops/array_ops.py:1468\u001b[0m, in \u001b[0;36mstack\u001b[0;34m(values, axis, name)\u001b[0m\n\u001b[1;32m   1465\u001b[0m \u001b[39mif\u001b[39;00m axis \u001b[39m==\u001b[39m \u001b[39m0\u001b[39m:\n\u001b[1;32m   1466\u001b[0m   \u001b[39mtry\u001b[39;00m:\n\u001b[1;32m   1467\u001b[0m     \u001b[39m# If the input is a constant list, it can be converted to a constant op\u001b[39;00m\n\u001b[0;32m-> 1468\u001b[0m     \u001b[39mreturn\u001b[39;00m ops\u001b[39m.\u001b[39;49mconvert_to_tensor(values, name\u001b[39m=\u001b[39;49mname)\n\u001b[1;32m   1469\u001b[0m   \u001b[39mexcept\u001b[39;00m (\u001b[39mTypeError\u001b[39;00m, \u001b[39mValueError\u001b[39;00m, \u001b[39mNotImplementedError\u001b[39;00m):\n\u001b[1;32m   1470\u001b[0m     \u001b[39mpass\u001b[39;00m  \u001b[39m# Input list contains non-constant tensors\u001b[39;00m\n",
      "File \u001b[0;32m~/.local/lib/python3.10/site-packages/tensorflow/python/profiler/trace.py:183\u001b[0m, in \u001b[0;36mtrace_wrapper.<locals>.inner_wrapper.<locals>.wrapped\u001b[0;34m(*args, **kwargs)\u001b[0m\n\u001b[1;32m    181\u001b[0m   \u001b[39mwith\u001b[39;00m Trace(trace_name, \u001b[39m*\u001b[39m\u001b[39m*\u001b[39mtrace_kwargs):\n\u001b[1;32m    182\u001b[0m     \u001b[39mreturn\u001b[39;00m func(\u001b[39m*\u001b[39margs, \u001b[39m*\u001b[39m\u001b[39m*\u001b[39mkwargs)\n\u001b[0;32m--> 183\u001b[0m \u001b[39mreturn\u001b[39;00m func(\u001b[39m*\u001b[39;49margs, \u001b[39m*\u001b[39;49m\u001b[39m*\u001b[39;49mkwargs)\n",
      "File \u001b[0;32m~/.local/lib/python3.10/site-packages/tensorflow/python/framework/ops.py:1638\u001b[0m, in \u001b[0;36mconvert_to_tensor\u001b[0;34m(value, dtype, name, as_ref, preferred_dtype, dtype_hint, ctx, accepted_result_types)\u001b[0m\n\u001b[1;32m   1629\u001b[0m       \u001b[39mraise\u001b[39;00m \u001b[39mRuntimeError\u001b[39;00m(\n\u001b[1;32m   1630\u001b[0m           _add_error_prefix(\n\u001b[1;32m   1631\u001b[0m               \u001b[39mf\u001b[39m\u001b[39m\"\u001b[39m\u001b[39mConversion function \u001b[39m\u001b[39m{\u001b[39;00mconversion_func\u001b[39m!r}\u001b[39;00m\u001b[39m for type \u001b[39m\u001b[39m\"\u001b[39m\n\u001b[0;32m   (...)\u001b[0m\n\u001b[1;32m   1634\u001b[0m               \u001b[39mf\u001b[39m\u001b[39m\"\u001b[39m\u001b[39mactual = \u001b[39m\u001b[39m{\u001b[39;00mret\u001b[39m.\u001b[39mdtype\u001b[39m.\u001b[39mbase_dtype\u001b[39m.\u001b[39mname\u001b[39m}\u001b[39;00m\u001b[39m\"\u001b[39m,\n\u001b[1;32m   1635\u001b[0m               name\u001b[39m=\u001b[39mname))\n\u001b[1;32m   1637\u001b[0m \u001b[39mif\u001b[39;00m ret \u001b[39mis\u001b[39;00m \u001b[39mNone\u001b[39;00m:\n\u001b[0;32m-> 1638\u001b[0m   ret \u001b[39m=\u001b[39m conversion_func(value, dtype\u001b[39m=\u001b[39;49mdtype, name\u001b[39m=\u001b[39;49mname, as_ref\u001b[39m=\u001b[39;49mas_ref)\n\u001b[1;32m   1640\u001b[0m \u001b[39mif\u001b[39;00m ret \u001b[39mis\u001b[39;00m \u001b[39mNotImplemented\u001b[39m:\n\u001b[1;32m   1641\u001b[0m   \u001b[39mcontinue\u001b[39;00m\n",
      "File \u001b[0;32m~/.local/lib/python3.10/site-packages/tensorflow/python/framework/constant_op.py:343\u001b[0m, in \u001b[0;36m_constant_tensor_conversion_function\u001b[0;34m(v, dtype, name, as_ref)\u001b[0m\n\u001b[1;32m    340\u001b[0m \u001b[39mdef\u001b[39;00m \u001b[39m_constant_tensor_conversion_function\u001b[39m(v, dtype\u001b[39m=\u001b[39m\u001b[39mNone\u001b[39;00m, name\u001b[39m=\u001b[39m\u001b[39mNone\u001b[39;00m,\n\u001b[1;32m    341\u001b[0m                                          as_ref\u001b[39m=\u001b[39m\u001b[39mFalse\u001b[39;00m):\n\u001b[1;32m    342\u001b[0m   _ \u001b[39m=\u001b[39m as_ref\n\u001b[0;32m--> 343\u001b[0m   \u001b[39mreturn\u001b[39;00m constant(v, dtype\u001b[39m=\u001b[39;49mdtype, name\u001b[39m=\u001b[39;49mname)\n",
      "File \u001b[0;32m~/.local/lib/python3.10/site-packages/tensorflow/python/framework/constant_op.py:267\u001b[0m, in \u001b[0;36mconstant\u001b[0;34m(value, dtype, shape, name)\u001b[0m\n\u001b[1;32m    170\u001b[0m \u001b[39m@tf_export\u001b[39m(\u001b[39m\"\u001b[39m\u001b[39mconstant\u001b[39m\u001b[39m\"\u001b[39m, v1\u001b[39m=\u001b[39m[])\n\u001b[1;32m    171\u001b[0m \u001b[39mdef\u001b[39;00m \u001b[39mconstant\u001b[39m(value, dtype\u001b[39m=\u001b[39m\u001b[39mNone\u001b[39;00m, shape\u001b[39m=\u001b[39m\u001b[39mNone\u001b[39;00m, name\u001b[39m=\u001b[39m\u001b[39m\"\u001b[39m\u001b[39mConst\u001b[39m\u001b[39m\"\u001b[39m):\n\u001b[1;32m    172\u001b[0m   \u001b[39m\"\"\"Creates a constant tensor from a tensor-like object.\u001b[39;00m\n\u001b[1;32m    173\u001b[0m \n\u001b[1;32m    174\u001b[0m \u001b[39m  Note: All eager `tf.Tensor` values are immutable (in contrast to\u001b[39;00m\n\u001b[0;32m   (...)\u001b[0m\n\u001b[1;32m    265\u001b[0m \u001b[39m    ValueError: if called on a symbolic tensor.\u001b[39;00m\n\u001b[1;32m    266\u001b[0m \u001b[39m  \"\"\"\u001b[39;00m\n\u001b[0;32m--> 267\u001b[0m   \u001b[39mreturn\u001b[39;00m _constant_impl(value, dtype, shape, name, verify_shape\u001b[39m=\u001b[39;49m\u001b[39mFalse\u001b[39;49;00m,\n\u001b[1;32m    268\u001b[0m                         allow_broadcast\u001b[39m=\u001b[39;49m\u001b[39mTrue\u001b[39;49;00m)\n",
      "File \u001b[0;32m~/.local/lib/python3.10/site-packages/tensorflow/python/framework/constant_op.py:279\u001b[0m, in \u001b[0;36m_constant_impl\u001b[0;34m(value, dtype, shape, name, verify_shape, allow_broadcast)\u001b[0m\n\u001b[1;32m    277\u001b[0m     \u001b[39mwith\u001b[39;00m trace\u001b[39m.\u001b[39mTrace(\u001b[39m\"\u001b[39m\u001b[39mtf.constant\u001b[39m\u001b[39m\"\u001b[39m):\n\u001b[1;32m    278\u001b[0m       \u001b[39mreturn\u001b[39;00m _constant_eager_impl(ctx, value, dtype, shape, verify_shape)\n\u001b[0;32m--> 279\u001b[0m   \u001b[39mreturn\u001b[39;00m _constant_eager_impl(ctx, value, dtype, shape, verify_shape)\n\u001b[1;32m    281\u001b[0m g \u001b[39m=\u001b[39m ops\u001b[39m.\u001b[39mget_default_graph()\n\u001b[1;32m    282\u001b[0m tensor_value \u001b[39m=\u001b[39m attr_value_pb2\u001b[39m.\u001b[39mAttrValue()\n",
      "File \u001b[0;32m~/.local/lib/python3.10/site-packages/tensorflow/python/framework/constant_op.py:304\u001b[0m, in \u001b[0;36m_constant_eager_impl\u001b[0;34m(ctx, value, dtype, shape, verify_shape)\u001b[0m\n\u001b[1;32m    302\u001b[0m \u001b[39mdef\u001b[39;00m \u001b[39m_constant_eager_impl\u001b[39m(ctx, value, dtype, shape, verify_shape):\n\u001b[1;32m    303\u001b[0m   \u001b[39m\"\"\"Creates a constant on the current device.\"\"\"\u001b[39;00m\n\u001b[0;32m--> 304\u001b[0m   t \u001b[39m=\u001b[39m convert_to_eager_tensor(value, ctx, dtype)\n\u001b[1;32m    305\u001b[0m   \u001b[39mif\u001b[39;00m shape \u001b[39mis\u001b[39;00m \u001b[39mNone\u001b[39;00m:\n\u001b[1;32m    306\u001b[0m     \u001b[39mreturn\u001b[39;00m t\n",
      "File \u001b[0;32m~/.local/lib/python3.10/site-packages/tensorflow/python/framework/constant_op.py:102\u001b[0m, in \u001b[0;36mconvert_to_eager_tensor\u001b[0;34m(value, ctx, dtype)\u001b[0m\n\u001b[1;32m    100\u001b[0m     dtype \u001b[39m=\u001b[39m dtypes\u001b[39m.\u001b[39mas_dtype(dtype)\u001b[39m.\u001b[39mas_datatype_enum\n\u001b[1;32m    101\u001b[0m ctx\u001b[39m.\u001b[39mensure_initialized()\n\u001b[0;32m--> 102\u001b[0m \u001b[39mreturn\u001b[39;00m ops\u001b[39m.\u001b[39;49mEagerTensor(value, ctx\u001b[39m.\u001b[39;49mdevice_name, dtype)\n",
      "\u001b[0;31mKeyboardInterrupt\u001b[0m: "
     ]
    }
   ],
   "source": [
    "from tqdm import tqdm\n",
    "\n",
    "\n",
    "acc = 0\n",
    "acc_count = 0\n",
    "REPORT = 10000\n",
    "epochs = 1\n",
    "\n",
    "for e in range(epochs):\n",
    "    print(\"EPOCH \"+str(e+1))\n",
    "    indices = np.arange(x_train.shape[0])\n",
    "    np.random.shuffle(indices)\n",
    "    for i in tqdm(indices):\n",
    "\n",
    "        x = x_train[i]\n",
    "        y = y_train[i]\n",
    "\n",
    "        # Predict\n",
    "        zhat = forward(W,b,x)\n",
    "\n",
    "        # Attribute blame\n",
    "        fp,fn = blame_columns(y,zhat)\n",
    "        blame_weights(x,fp,fn)\n",
    "\n",
    "        # \"Forgiveness counter\"\n",
    "        counter += 1\n",
    "        if counter >= counter_RESET:\n",
    "            W_blame -= 1\n",
    "            W_blame[W_blame < 0] = 0\n",
    "            b_blame = np.sign(b_blame)*(np.abs(b_blame) - 1)\n",
    "            counter = 0\n",
    "\n",
    "        # Accuracy metric counter\n",
    "        acc += np.sum(np.logical_and(zhat > 0, y > 0))\n",
    "        acc_count += 1\n",
    "        if acc_count >= REPORT:\n",
    "            print(\"Current Accuracy: \" + str(acc / REPORT))\n",
    "            acc_count = 0\n",
    "            acc = 0\n",
    "\n",
    "\n",
    "\n"
   ]
  },
  {
   "cell_type": "markdown",
   "metadata": {},
   "source": [
    "Awesome, so our model guesses labels correctly in 84% of cases, not bad for a silly counting system. As a great sanity test for perceptrons, we can see that the statistical forms of our various characters have embedded themselves into their corresponding layers - providing a clear insight into how the perceptron is operating:"
   ]
  },
  {
   "cell_type": "code",
   "execution_count": 8,
   "metadata": {},
   "outputs": [
    {
     "data": {
      "image/png": "[encoded data removed]",
      "text/plain": [
       "<Figure size 640x480 with 10 Axes>"
      ]
     },
     "metadata": {},
     "output_type": "display_data"
    }
   ],
   "source": [
    "fig, axs = plt.subplots(2,5)\n",
    "\n",
    "for i in range(10):\n",
    "    axs[i//5,i%5].set_title(\"Column \"+str(i))\n",
    "    axs[i//5,i%5].imshow(W[:,i].reshape(28,28))\n",
    "    axs[i//5,i%5].tick_params(axis='both',bottom=False,labelbottom=False,left=False,labelleft=False)\n",
    "plt.show()"
   ]
  },
  {
   "cell_type": "markdown",
   "metadata": {},
   "source": [
    "Finally, we shall test our trained network on the MNIST testing set to see how well our perceptron generalizes given lessons learnt."
   ]
  },
  {
   "cell_type": "code",
   "execution_count": 9,
   "metadata": {},
   "outputs": [
    {
     "name": "stderr",
     "output_type": "stream",
     "text": [
      "10000it [00:03, 2718.23it/s]"
     ]
    },
    {
     "name": "stdout",
     "output_type": "stream",
     "text": [
      "Current Accuracy: 0.6959\n"
     ]
    },
    {
     "name": "stderr",
     "output_type": "stream",
     "text": [
      "\n"
     ]
    }
   ],
   "source": [
    "acc = 0\n",
    "acc_count = 0\n",
    "REPORT = 10000\n",
    "\n",
    "for x,y in tqdm(zip(x_test,y_test)):\n",
    "\n",
    "    #Forward\n",
    "    zhat = forward(W,b,x)\n",
    "\n",
    "    # Accuracy metric counter\n",
    "    acc += np.sum(np.logical_and(zhat > 0, y > 0))\n",
    "    acc_count += 1\n",
    "    if acc_count >= REPORT:\n",
    "        print(\"Current Accuracy: \" + str(acc / REPORT))\n",
    "        acc_count = 0\n",
    "        acc = 0"
   ]
  }
 ],
 "metadata": {
  "kernelspec": {
   "display_name": "Python 3.10.8 64-bit",
   "language": "python",
   "name": "python3"
  },
  "language_info": {
   "codemirror_mode": {
    "name": "ipython",
    "version": 3
   },
   "file_extension": ".py",
   "mimetype": "text/x-python",
   "name": "python",
   "nbconvert_exporter": "python",
   "pygments_lexer": "ipython3",
   "version": "3.10.8"
  },
  "orig_nbformat": 4,
  "vscode": {
   "interpreter": {
    "hash": "e7370f93d1d0cde622a1f8e1c04877d8463912d04d973331ad4851f04de6915a"
   }
  }
 },
 "nbformat": 4,
 "nbformat_minor": 2
}
