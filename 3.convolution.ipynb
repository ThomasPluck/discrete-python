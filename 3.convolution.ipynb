{
 "cells": [
  {
   "cell_type": "markdown",
   "metadata": {},
   "source": [
    "# Convolutional Neural Networks\n",
    "\n",
    "With the basic principles of multi-layer perceptrons understood, extending the same ideas to convolution relies on understanding that to a convolutional filter, a single sample can actually be multiple input samples that the discrete optimizer has to work with."
   ]
  }
 ],
 "metadata": {
  "language_info": {
   "name": "python"
  },
  "orig_nbformat": 4
 },
 "nbformat": 4,
 "nbformat_minor": 2
}
