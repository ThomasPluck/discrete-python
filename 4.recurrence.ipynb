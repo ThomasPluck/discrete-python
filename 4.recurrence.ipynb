{
 "cells": [
  {
   "cell_type": "markdown",
   "metadata": {},
   "source": [
    "# Recurrent Neural Networks\n",
    "\n",
    "Discrete Optimization can similarly be extended to Recurrent Neural Networks - since we have the steps for a multi-layer discrete optimization - we can apply these to the exact formula of a binarized Elman network and begin learning on a task that is more typical of a language model."
   ]
  },
  {
   "cell_type": "code",
   "execution_count": null,
   "metadata": {},
   "outputs": [],
   "source": []
  }
 ],
 "metadata": {
  "language_info": {
   "name": "python"
  },
  "orig_nbformat": 4
 },
 "nbformat": 4,
 "nbformat_minor": 2
}
